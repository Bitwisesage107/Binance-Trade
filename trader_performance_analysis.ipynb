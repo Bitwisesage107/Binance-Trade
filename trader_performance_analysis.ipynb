{
  "nbformat": 4,
  "nbformat_minor": 0,
  "metadata": {
    "colab": {
      "provenance": []
    },
    "kernelspec": {
      "name": "python3",
      "display_name": "Python 3"
    },
    "language_info": {
      "name": "python"
    }
  },
  "cells": [
    {
      "cell_type": "code",
      "execution_count": null,
      "metadata": {
        "id": "NhckAMrpOyMN"
      },
      "outputs": [],
      "source": [
        "import pandas as pd\n",
        "import numpy as np\n",
        "import os\n",
        "import logging\n",
        "from scipy.stats import norm"
      ]
    },
    {
      "cell_type": "code",
      "source": [
        "trades_df = pd.read_csv(\"/content/sample_data/TRADES_CopyTr_90D_ROI.csv\")\n",
        "print(trades_df.head())\n",
        "print(trades_df.info())"
      ],
      "metadata": {
        "colab": {
          "base_uri": "https://localhost:8080/"
        },
        "id": "xOef0RMRqboV",
        "outputId": "93b63fa2-08ac-484b-8568-a4c3ec2341de"
      },
      "execution_count": null,
      "outputs": [
        {
          "output_type": "stream",
          "name": "stdout",
          "text": [
            "              Port_IDs                                      Trade_History\n",
            "0  3925368433214965504  [{'time': 1718899656000, 'symbol': 'SOLUSDT', ...\n",
            "1  4002413037164645377  [{'time': 1718980078000, 'symbol': 'NEARUSDT',...\n",
            "2  3923766029921022977  [{'time': 1718677164000, 'symbol': 'ETHUSDT', ...\n",
            "3  3994879592543698688  [{'time': 1718678214000, 'symbol': 'ETHUSDT', ...\n",
            "4  3926423286576838657  [{'time': 1718979615000, 'symbol': 'ETHUSDT', ...\n",
            "<class 'pandas.core.frame.DataFrame'>\n",
            "RangeIndex: 150 entries, 0 to 149\n",
            "Data columns (total 2 columns):\n",
            " #   Column         Non-Null Count  Dtype \n",
            "---  ------         --------------  ----- \n",
            " 0   Port_IDs       150 non-null    int64 \n",
            " 1   Trade_History  149 non-null    object\n",
            "dtypes: int64(1), object(1)\n",
            "memory usage: 2.5+ KB\n",
            "None\n"
          ]
        }
      ]
    },
    {
      "cell_type": "code",
      "source": [
        "print(type(trades_df['Trade_History'].loc[0]))"
      ],
      "metadata": {
        "colab": {
          "base_uri": "https://localhost:8080/"
        },
        "id": "3hEwP9nSX8nR",
        "outputId": "b0a49c84-f65e-4974-c898-2a7d62437a19"
      },
      "execution_count": null,
      "outputs": [
        {
          "output_type": "stream",
          "name": "stdout",
          "text": [
            "<class 'str'>\n"
          ]
        }
      ]
    },
    {
      "cell_type": "code",
      "source": [
        "\n",
        "import ast  # Importing ast for safe evaluation of strings\n",
        "\n",
        "# Configure logging\n",
        "logging.basicConfig(level=logging.INFO, format='%(asctime)s - %(levelname)s - %(message)s')\n",
        "\n",
        "# Data Loading and Exploration\n",
        "\n",
        "def clean_trade_data(trade_data):\n",
        "    cleaned_trades = []\n",
        "\n",
        "    if isinstance(trade_data, str):  # Parse the string using ast.literal_eval\n",
        "        try:\n",
        "            trade_list = ast.literal_eval(trade_data) # Safely evaluate the string\n",
        "            if isinstance(trade_list, list): # Check if the evaluated object is a list\n",
        "                for i, trade in enumerate(trade_list):\n",
        "                    try:\n",
        "                        original_time = trade.get('time')\n",
        "                        new_trade = trade.copy()\n",
        "\n",
        "                        try:  # Time conversion\n",
        "                            new_trade['time'] = pd.to_datetime(trade['time'], unit='ms')\n",
        "                            if pd.isna(new_trade['time']):\n",
        "                                raise ValueError(\"Invalid or out-of-range timestamp\")\n",
        "                        except (ValueError, pd.errors.OutOfBoundsDatetime) as e:\n",
        "                            logging.error(f\"Trade {i} (original time: {original_time}): Time conversion error: {e}. Skipping.\")\n",
        "                            continue\n",
        "\n",
        "                        try:  # realizedProfit conversion\n",
        "                            new_trade['realizedProfit'] = float(trade['realizedProfit'])\n",
        "                        except (ValueError, TypeError) as e:\n",
        "                            logging.error(f\"Trade {i} (original time: {original_time}): realizedProfit conversion error: {e}. Skipping.\")\n",
        "                            continue\n",
        "\n",
        "                        cleaned_trades.append(new_trade)\n",
        "\n",
        "                    except Exception as e:\n",
        "                        logging.error(f\"Unexpected error processing trade {i}: {e}. Skipping trade.\")\n",
        "                        continue\n",
        "            elif isinstance(trade_list, dict): # Check if the evaluated object is a dictionary\n",
        "                try:\n",
        "                    original_time = trade_list.get('time')\n",
        "                    new_trade = trade_list.copy()\n",
        "\n",
        "                    try:  # Time conversion\n",
        "                        new_trade['time'] = pd.to_datetime(trade_list['time'], unit='ms')\n",
        "                        if pd.isna(new_trade['time']):\n",
        "                            raise ValueError(\"Invalid or out-of-range timestamp\")\n",
        "                    except (ValueError, pd.errors.OutOfBoundsDatetime) as e:\n",
        "                        logging.error(f\"Single trade (original time: {original_time}): Time conversion error: {e}. Skipping.\")\n",
        "                        return []\n",
        "\n",
        "                    try:  # realizedProfit conversion\n",
        "                        new_trade['realizedProfit'] = float(trade_list['realizedProfit'])\n",
        "                    except (ValueError, TypeError) as e:\n",
        "                        logging.error(f\"Single trade (original time: {original_time}): realizedProfit conversion error: {e}. Skipping.\")\n",
        "                        return []\n",
        "\n",
        "                    cleaned_trades.append(new_trade)\n",
        "\n",
        "                except Exception as e:\n",
        "                    logging.error(f\"Unexpected error processing single trade: {e}. Skipping trade.\")\n",
        "                    return []\n",
        "            else:\n",
        "                logging.warning(f\"Unexpected evaluated structure: {type(trade_list)}. Skipping.\")\n",
        "                pass\n",
        "        except (SyntaxError, ValueError) as e:  # Catch evaluation errors\n",
        "            logging.error(f\"Error evaluating string: {e}. Skipping.\")\n",
        "            return [] # Return empty if can't evaluate\n",
        "\n",
        "    elif isinstance(trade_data, list): # Check if it's already a list (no evaluation needed)\n",
        "        for i, trade in enumerate(trade_data):\n",
        "            try:\n",
        "                original_time = trade.get('time')\n",
        "                new_trade = trade.copy()\n",
        "\n",
        "                try:  # Time conversion\n",
        "                    new_trade['time'] = pd.to_datetime(trade['time'], unit='ms')\n",
        "                    if pd.isna(new_trade['time']):\n",
        "                        raise ValueError(\"Invalid or out-of-range timestamp\")\n",
        "                except (ValueError, pd.errors.OutOfBoundsDatetime) as e:\n",
        "                    logging.error(f\"Trade {i} (original time: {original_time}): Time conversion error: {e}. Skipping.\")\n",
        "                    continue\n",
        "\n",
        "                try:  # realizedProfit conversion\n",
        "                    new_trade['realizedProfit'] = float(trade['realizedProfit'])\n",
        "                except (ValueError, TypeError) as e:\n",
        "                    logging.error(f\"Trade {i} (original time: {original_time}): realizedProfit conversion error: {e}. Skipping.\")\n",
        "                    continue\n",
        "\n",
        "                cleaned_trades.append(new_trade)\n",
        "\n",
        "            except Exception as e:\n",
        "                logging.error(f\"Unexpected error processing trade {i}: {e}. Skipping trade.\")\n",
        "                continue\n",
        "\n",
        "    elif isinstance(trade_data, dict):\n",
        "        try:\n",
        "            original_time = trade_data.get('time')\n",
        "            new_trade = trade_data.copy()\n",
        "\n",
        "            try:  # Time conversion\n",
        "                new_trade['time'] = pd.to_datetime(trade_data['time'], unit='ms')\n",
        "                if pd.isna(new_trade['time']):\n",
        "                    raise ValueError(\"Invalid or out-of-range timestamp\")\n",
        "            except (ValueError, pd.errors.OutOfBoundsDatetime) as e:\n",
        "                logging.error(f\"Single trade (original time: {original_time}): Time conversion error: {e}. Skipping.\")\n",
        "                return []\n",
        "\n",
        "            try:  # realizedProfit conversion\n",
        "                new_trade['realizedProfit'] = float(trade_data['realizedProfit'])\n",
        "            except (ValueError, TypeError) as e:\n",
        "                logging.error(f\"Single trade (original time: {original_time}): realizedProfit conversion error: {e}. Skipping.\")\n",
        "                return []\n",
        "\n",
        "            cleaned_trades.append(new_trade)\n",
        "\n",
        "        except Exception as e:\n",
        "            logging.error(f\"Unexpected error processing single trade: {e}. Skipping trade.\")\n",
        "            return []\n",
        "\n",
        "    elif isinstance(trade_data, (int, float, np.number)):\n",
        "        logging.warning(f\"Trade_History entry is a number: {trade_data}. Skipping.\")\n",
        "        pass\n",
        "    else:\n",
        "        logging.warning(f\"Unexpected data type in Trade_History: {type(trade_data)}. Skipping.\")\n",
        "        pass\n",
        "\n",
        "    return cleaned_trades\n",
        "\n",
        "\n",
        "trades_df['Trade_History'] = trades_df['Trade_History'].apply(clean_trade_data)\n",
        "\n",
        "# ... (Rest of the code - same as before) ..."
      ],
      "metadata": {
        "colab": {
          "base_uri": "https://localhost:8080/"
        },
        "id": "jV2wjj6acMxa",
        "outputId": "a581ef37-de30-4f2d-c576-412078e4d819"
      },
      "execution_count": null,
      "outputs": [
        {
          "output_type": "stream",
          "name": "stderr",
          "text": [
            "WARNING:root:Trade_History entry is a number: nan. Skipping.\n"
          ]
        }
      ]
    },
    {
      "cell_type": "code",
      "source": [
        "# 3. Feature Engineering and Metric Calculation\n",
        "def calculate_metrics(group):\n",
        "    all_trades = []\n",
        "    for trade_list in group['Trade_History']:\n",
        "        all_trades.extend(trade_list) # flatten the list of lists\n",
        "    group_metrics = pd.Series(index=['ROI','PnL','Sharpe Ratio','MDD','Win Rate','Win Positions','Total Positions'])\n",
        "    if not all_trades: # if list is empty, default to 0\n",
        "        group_metrics[:] = 0\n",
        "        return group_metrics\n",
        "    trades_df_temp = pd.DataFrame(all_trades) # Create a temp dataframe\n",
        "    total_positions = len(trades_df_temp)\n",
        "    win_positions = len(trades_df_temp[trades_df_temp['realizedProfit'] > 0])\n",
        "    win_rate = (win_positions / total_positions) if total_positions > 0 else 0\n",
        "\n",
        "    # Calculate ROI (Return on Investment)\n",
        "    initial_balance = 1  # Assuming a starting balance of 1 for simplicity (you may use a different value if you have it)\n",
        "    final_balance = initial_balance + trades_df_temp['realizedProfit'].sum()\n",
        "    roi = ((final_balance - initial_balance) / initial_balance) * 100\n",
        "\n",
        "    # Calculate PnL (Profit and Loss)\n",
        "    pnl = trades_df_temp['realizedProfit'].sum()\n",
        "\n",
        "    # Calculate Sharpe Ratio (assuming daily returns)\n",
        "    daily_returns = trades_df_temp.set_index('time')['realizedProfit'].resample('D').sum() # Resample to daily\n",
        "    average_daily_return = daily_returns.mean()\n",
        "    std_dev_daily_return = daily_returns.std()\n",
        "    sharpe_ratio = np.sqrt(252) * average_daily_return / std_dev_daily_return if std_dev_daily_return > 0 else 0 # Assuming 252 trading days in a year\n",
        "\n",
        "    # Calculate MDD (Maximum Drawdown)\n",
        "    cumulative_returns = (1 + daily_returns.fillna(0)).cumprod() # Fillna to handle potential NaNs from resampling\n",
        "    peak = cumulative_returns.max()\n",
        "    drawdown = (cumulative_returns - peak) / peak\n",
        "    mdd = drawdown.min()\n",
        "\n",
        "    return pd.Series({\n",
        "        'ROI': roi,\n",
        "        'PnL': pnl,\n",
        "        'Sharpe Ratio': sharpe_ratio,\n",
        "        'MDD': mdd,\n",
        "        'Win Rate': win_rate,\n",
        "        'Win Positions': win_positions,\n",
        "        'Total Positions': total_positions\n",
        "    })\n",
        "\n",
        "metrics_df = trades_df.groupby('Port_IDs').apply(calculate_metrics).reset_index()"
      ],
      "metadata": {
        "colab": {
          "base_uri": "https://localhost:8080/"
        },
        "id": "8qp_Ancwdgwv",
        "outputId": "e09e2301-469d-4668-a91b-5b523f14e210"
      },
      "execution_count": null,
      "outputs": [
        {
          "output_type": "stream",
          "name": "stderr",
          "text": [
            "<ipython-input-76-090d0c4ecdf2>:45: DeprecationWarning: DataFrameGroupBy.apply operated on the grouping columns. This behavior is deprecated, and in a future version of pandas the grouping columns will be excluded from the operation. Either pass `include_groups=False` to exclude the groupings or explicitly select the grouping columns after groupby to silence this warning.\n",
            "  metrics_df = trades_df.groupby('Port_IDs').apply(calculate_metrics).reset_index()\n"
          ]
        }
      ]
    },
    {
      "cell_type": "code",
      "source": [
        "# 4. Ranking and Top 20 List (same as before)\n",
        "weights = {\n",
        "    'ROI': 0.3,\n",
        "    'PnL': 0.25,\n",
        "    'Sharpe Ratio': 0.2,\n",
        "    'MDD': 0.15,  # We want to minimize MDD\n",
        "    'Win Rate': 0.1\n",
        "}\n",
        "\n",
        "for metric in weights:\n",
        "    if metric != 'MDD':\n",
        "        metrics_df[metric] = (metrics_df[metric] - metrics_df[metric].min()) / (metrics_df[metric].max() - metrics_df[metric].min())\n",
        "    else:\n",
        "        metrics_df[metric] = (metrics_df[metric].max() - metrics_df[metric]) / (metrics_df[metric].max() - metrics_df[metric].min())\n",
        "\n",
        "metrics_df['score'] = sum(metrics_df[metric] * weights[metric] for metric in weights)\n",
        "metrics_df['rank'] = metrics_df['score'].rank(ascending=False)\n",
        "top_20 = metrics_df.sort_values('score', ascending=False).head(20)\n",
        "\n",
        "print(top_20)\n"
      ],
      "metadata": {
        "colab": {
          "base_uri": "https://localhost:8080/"
        },
        "id": "ABv9TrVCdg9u",
        "outputId": "5984cf51-e4b7-43ef-ea49-566d6715a97e"
      },
      "execution_count": null,
      "outputs": [
        {
          "output_type": "stream",
          "name": "stdout",
          "text": [
            "                Port_IDs       ROI       PnL  Sharpe Ratio           MDD  \\\n",
            "97   4020204877254599680  1.000000  1.000000      0.374848  2.894981e-74   \n",
            "76   3999240873283311617  0.651145  0.651145      0.488155  5.461103e-78   \n",
            "37   3943533600390906881  0.174379  0.174379      0.629163  1.000000e+00   \n",
            "63   3986814617275053313  0.340079  0.340079      0.629569  5.461103e-78   \n",
            "99   4021669203289716224  0.459704  0.459704      0.513170  5.461103e-78   \n",
            "17   3907081197088384000  0.359980  0.359980      0.476704  2.806752e-19   \n",
            "51   3960874214179953664  0.378374  0.378374      0.476041  5.461422e-78   \n",
            "108  4028701921959171840  0.355064  0.355064      0.480262  2.966901e-63   \n",
            "16   3891020560590657281  0.180246  0.180246      0.839068  5.461103e-78   \n",
            "137  4037121179310444801  0.232195  0.232195      0.785371  0.000000e+00   \n",
            "149  4041860229502600193  0.173975  0.173975      1.000000  5.457683e-78   \n",
            "100  4022565861939831809  0.314709  0.314709      0.504862  4.823183e-62   \n",
            "49   3956076827719377409  0.345444  0.345444      0.407383  2.710804e-42   \n",
            "98   4021243448368889856  0.164145  0.164145      0.958292  5.461103e-78   \n",
            "85   4008711265867865600  0.280340  0.280340      0.599430  1.963961e-43   \n",
            "139  4037282461943784704  0.202821  0.202821      0.866950  5.461103e-78   \n",
            "14   3886752488982104320  0.231688  0.231688      0.476240  5.223464e-59   \n",
            "77   3999845462424248576  0.215659  0.215659      0.680418  5.461103e-78   \n",
            "119  4030635536196756737  0.176990  0.176990      0.721842  8.918978e-72   \n",
            "5    3788465932399412480  0.311903  0.311903      0.398445  2.184944e-28   \n",
            "\n",
            "     Win Rate  Win Positions  Total Positions     score  rank  \n",
            "97   0.410437         1993.0           6050.0  0.666013   1.0  \n",
            "76   0.651896         2366.0           4522.0  0.520950   2.0  \n",
            "37   0.682819          964.0           1759.0  0.440023   3.0  \n",
            "63   0.974589         2780.0           3554.0  0.410416   4.0  \n",
            "99   0.391113          528.0           1682.0  0.394583   5.0  \n",
            "17   0.764966         2540.0           4137.0  0.369826   6.0  \n",
            "51   0.642507         1233.0           2391.0  0.367565   7.0  \n",
            "108  0.676466          373.0            687.0  0.358984   8.0  \n",
            "16   0.806862          283.0            437.0  0.347635   9.0  \n",
            "137  0.603046          772.0           1595.0  0.345086  10.0  \n",
            "149  0.488097           38.0             97.0  0.344496  11.0  \n",
            "100  0.657428          372.0            705.0  0.339805  12.0  \n",
            "49   0.642374         2019.0           3916.0  0.335708  13.0  \n",
            "98   0.471600         2290.0           6050.0  0.329098  14.0  \n",
            "85   0.524936          166.0            394.0  0.326566  15.0  \n",
            "139  0.336204          136.0            504.0  0.318562  16.0  \n",
            "14   0.928713          931.0           1249.0  0.315548  17.0  \n",
            "77   0.541856         1443.0           3318.0  0.308881  18.0  \n",
            "119  0.653777          679.0           1294.0  0.307091  19.0  \n",
            "5    0.555777         1369.0           3069.0  0.306814  20.0  \n"
          ]
        }
      ]
    },
    {
      "cell_type": "code",
      "source": [
        "# 5. Deliverable\n",
        "metrics_df.to_csv(\"account_metrics.csv\", index=False)\n",
        "top_20.to_csv(\"top_20_accounts.csv\", index=False)\n"
      ],
      "metadata": {
        "id": "J5uAUs5Sfa1U"
      },
      "execution_count": null,
      "outputs": []
    }
  ]
}